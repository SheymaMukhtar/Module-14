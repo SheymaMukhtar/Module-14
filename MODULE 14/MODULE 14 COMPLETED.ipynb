{
 "cells": [
  {
   "cell_type": "code",
   "execution_count": 33,
   "id": "b0637ad9-0d68-4944-83ea-c5504822d9cf",
   "metadata": {},
   "outputs": [
    {
     "ename": "SyntaxError",
     "evalue": "invalid syntax (2962111890.py, line 1)",
     "output_type": "error",
     "traceback": [
      "\u001b[0;36m  Cell \u001b[0;32mIn[33], line 1\u001b[0;36m\u001b[0m\n\u001b[0;31m    <!DOCTYPE html>\u001b[0m\n\u001b[0m    ^\u001b[0m\n\u001b[0;31mSyntaxError\u001b[0m\u001b[0;31m:\u001b[0m invalid syntax\n"
     ]
    }
   ],
   "source": [
    "<!DOCTYPE html>\n",
    "<html lang=\"en\">\n",
    "<head>\n",
    "    <meta charset=\"UTF-8\">\n",
    "    <meta name=\"viewport\" content=\"width=device-width, initial-scale=1.0\">\n",
    "    <title>Data Visualization Dashboard</title>\n",
    "    <script src=\"https://d3js.org/d3.v7.min.js\"></script>\n",
    "</head>\n",
    "<body>\n",
    "    <!-- index.html -->\n",
    "    <div id=\"dropdown\"></div>\n",
    "    <div id=\"bar-chart\"></div>\n",
    "    <div id=\"bubble-chart\"></div>\n",
    "    <div id=\"sample-metadata\"></div>\n",
    "\n",
    "    <script src=\"script.js\"></script>\n",
    "</body>\n",
    "</html>"
   ]
  },
  {
   "cell_type": "code",
   "execution_count": 34,
   "id": "a1aafb5c-7ae9-465f-b7f2-212f70b485e0",
   "metadata": {},
   "outputs": [
    {
     "ename": "SyntaxError",
     "evalue": "invalid syntax (611862672.py, line 1)",
     "output_type": "error",
     "traceback": [
      "\u001b[0;36m  Cell \u001b[0;32mIn[34], line 1\u001b[0;36m\u001b[0m\n\u001b[0;31m    // Define variables to hold data\u001b[0m\n\u001b[0m    ^\u001b[0m\n\u001b[0;31mSyntaxError\u001b[0m\u001b[0;31m:\u001b[0m invalid syntax\n"
     ]
    }
   ],
   "source": [
    "// Define variables to hold data\n",
    "let data;\n",
    "\n",
    "// Fetch and parse JSON data using D3\n",
    "d3.json(\"https://static.bc-edx.com/data/dl-1-2/m14/lms/starter/samples.json\").then((jsonData) => {\n",
    "    data = jsonData;\n",
    "\n",
    "    // Log the data to verify\n",
    "    console.log(data);\n",
    "\n",
    "    // Call functions to create dropdown, charts, and display metadata\n",
    "    createDropdown();\n",
    "    createCharts(data.names[0]); // Initial sample\n",
    "    displayMetadata(data.metadata[0]); // Initial sample metadata\n",
    "});\n",
    "\n",
    "// Function to create dropdown menu\n",
    "function createDropdown() {\n",
    "    const dropdown = d3.select(\"#dropdown\");\n",
    "\n",
    "    dropdown.append(\"select\")\n",
    "        .selectAll(\"option\")\n",
    "        .data(data.names)\n",
    "        .enter()\n",
    "        .append(\"option\")\n",
    "        .attr(\"value\", d => d)\n",
    "        .text(d => d)\n",
    "        .property(\"selected\", (d, i) => i === 0) // Select first option by default\n",
    "\n",
    "    dropdown.on(\"change\", function() {\n",
    "        const selectedSample = this.value;\n",
    "        createCharts(selectedSample);\n",
    "        displayMetadata(data.metadata.find(sample => sample.id === selectedSample));\n",
    "    });\n",
    "}\n",
    "\n",
    "function createCharts(selectedSample) {\n",
    "    const sample = data.samples.find(sample => sample.id === selectedSample);\n",
    "\n",
    "    // Create bar chart\n",
    "    // Code for bar chart creation goes here\n",
    "\n",
    "    // Create bubble chart\n",
    "    // Code for bubble chart creation goes here\n",
    "}\n",
    "\n",
    "function displayMetadata(metadata) {\n",
    "    const metadataPanel = d3.select(\"#sample-metadata\");\n",
    "\n",
    "    metadataPanel.html(\"\"); // Clear previous metadata\n",
    "\n",
    "    Object.entries(metadata).forEach(([key, value]) => {\n",
    "        metadataPanel.append(\"p\")\n",
    "            .text(`${key}: ${value}`);\n",
    "    });\n",
    "}\n"
   ]
  },
  {
   "cell_type": "code",
   "execution_count": null,
   "id": "a3783192-9651-4f11-84ac-bf6b3f0377ce",
   "metadata": {},
   "outputs": [],
   "source": []
  },
  {
   "cell_type": "code",
   "execution_count": null,
   "id": "12e2d81c-d06f-4725-8c3b-7234a66195b2",
   "metadata": {},
   "outputs": [],
   "source": []
  }
 ],
 "metadata": {
  "kernelspec": {
   "display_name": "Python 3 (ipykernel)",
   "language": "python",
   "name": "python3"
  },
  "language_info": {
   "codemirror_mode": {
    "name": "ipython",
    "version": 3
   },
   "file_extension": ".py",
   "mimetype": "text/x-python",
   "name": "python",
   "nbconvert_exporter": "python",
   "pygments_lexer": "ipython3",
   "version": "3.11.7"
  }
 },
 "nbformat": 4,
 "nbformat_minor": 5
}
